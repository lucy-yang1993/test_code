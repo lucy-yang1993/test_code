{
 "cells": [
  {
   "cell_type": "code",
   "execution_count": 4,
   "metadata": {},
   "outputs": [],
   "source": [
    "import pandas as pd\n",
    "import psycopg2"
   ]
  },
  {
   "cell_type": "code",
   "execution_count": 7,
   "metadata": {},
   "outputs": [],
   "source": [
    "def get_data():\n",
    "    host = \"172.16.30.3\" \n",
    "    port = \"3446\" \n",
    "    user = \"analyser\"\n",
    "    pwd = \"ifengniao1234\"\n",
    "    db = psycopg2.connect(database=\"process\", user=user, password=pwd, host=host, port=port)\n",
    "    sql = \"\"\"\n",
    "    SELECT\n",
    "    tab.dates,\n",
    "    tab.order_id,\n",
    "    sum(tab.时长) 订单送车锁定总时长\n",
    "    FROM\n",
    "    (SELECT\n",
    "    a1.id,\n",
    "    a1.car_id,\n",
    "    a1.dates,\n",
    "    a1.order_id,\n",
    "    a1.car_status,\n",
    "    -- a1.record_time start_time,\n",
    "    -- a2.record_time end_time,\n",
    "    round((a2.record_time-a1.record_time)::numeric/3600::numeric,2) 时长,\n",
    "    ROW_NUMBER() OVER (partition by a1.order_id ORDER BY a1.record_time) as info_id\n",
    "    FROM\n",
    "    (SELECT \n",
    "    id,\n",
    "    car_id,\n",
    "    date(to_timestamp(old_status_times)) dates,\n",
    "    order_id,\n",
    "    car_brand,\n",
    "    record_time,\n",
    "    car_status,\n",
    "    ROW_NUMBER() OVER (ORDER BY car_id,record_time) as help_id\n",
    "    FROM \"car_status_change\" \n",
    "    WHERE timed_task is null\n",
    "    AND old_status_times >= EXTRACT(EPOCH FROM TIMESTAMP WITH TIME ZONE '2020-12-01')\n",
    "    and city = '西安市'\n",
    "    ORDER BY car_id,record_time\n",
    "    ) a1\n",
    "    LEFT JOIN\n",
    "    (SELECT \n",
    "    car_id,\n",
    "    record_time,\n",
    "    ROW_NUMBER() OVER (ORDER BY car_id,record_time)-1 as help_id\n",
    "    FROM \"car_status_change\" \n",
    "    WHERE timed_task is null\n",
    "    AND old_status_times >= EXTRACT(EPOCH FROM TIMESTAMP WITH TIME ZONE '2020-12-01')\n",
    "    and city = '西安市'\n",
    "    ORDER BY car_id,record_time\n",
    "    ) a2\n",
    "    ON a2.help_id= a1.help_id and a2.car_id = a1.car_id\n",
    "    WHERE a2.record_time is not NULL\n",
    "    AND a1.car_status = 3  --1:自取锁定，3：送车锁定\n",
    "    ) tab\n",
    "    GROUP BY tab.dates,tab.order_id\n",
    "    \"\"\"\n",
    "    data = pd.read_sql(sql,db)\n",
    "    db.close()\n",
    "    return data\n",
    "\n",
    "row_data = get_data()"
   ]
  },
  {
   "cell_type": "code",
   "execution_count": 55,
   "metadata": {},
   "outputs": [
    {
     "ename": "TypeError",
     "evalue": "first argument must be an iterable of pandas objects, you passed an object of type \"DataFrame\"",
     "output_type": "error",
     "traceback": [
      "\u001b[1;31m---------------------------------------------------------------------------\u001b[0m",
      "\u001b[1;31mTypeError\u001b[0m                                 Traceback (most recent call last)",
      "\u001b[1;32m<ipython-input-55-ba07ef5d3edf>\u001b[0m in \u001b[0;36m<module>\u001b[1;34m()\u001b[0m\n\u001b[0;32m     22\u001b[0m         \u001b[1;32mreturn\u001b[0m \u001b[1;36m1\u001b[0m\u001b[1;33m\u001b[0m\u001b[0m\n\u001b[0;32m     23\u001b[0m \u001b[1;33m\u001b[0m\u001b[0m\n\u001b[1;32m---> 24\u001b[1;33m \u001b[0mDescriptive_Statistics\u001b[0m\u001b[1;33m(\u001b[0m\u001b[0mdf\u001b[0m\u001b[1;33m)\u001b[0m\u001b[1;33m\u001b[0m\u001b[0m\n\u001b[0m",
      "\u001b[1;32m<ipython-input-55-ba07ef5d3edf>\u001b[0m in \u001b[0;36mDescriptive_Statistics\u001b[1;34m(df, parts)\u001b[0m\n\u001b[0;32m     12\u001b[0m             \u001b[0mdf_res\u001b[0m \u001b[1;33m=\u001b[0m \u001b[0mdf\u001b[0m\u001b[1;33m[\u001b[0m\u001b[0mi\u001b[0m\u001b[1;33m]\u001b[0m\u001b[1;33m.\u001b[0m\u001b[0mdescribe\u001b[0m\u001b[1;33m(\u001b[0m\u001b[0mparts_list\u001b[0m\u001b[1;33m)\u001b[0m\u001b[1;33m.\u001b[0m\u001b[0mround\u001b[0m\u001b[1;33m(\u001b[0m\u001b[0mdecimals\u001b[0m\u001b[1;33m=\u001b[0m\u001b[1;36m3\u001b[0m\u001b[1;33m)\u001b[0m\u001b[1;33m\u001b[0m\u001b[0m\n\u001b[0;32m     13\u001b[0m             \u001b[0mres_list\u001b[0m\u001b[1;33m.\u001b[0m\u001b[0mappend\u001b[0m\u001b[1;33m(\u001b[0m\u001b[0mres_list\u001b[0m\u001b[1;33m)\u001b[0m\u001b[1;33m\u001b[0m\u001b[0m\n\u001b[1;32m---> 14\u001b[1;33m         \u001b[0mresult\u001b[0m \u001b[1;33m=\u001b[0m \u001b[0mpd\u001b[0m\u001b[1;33m.\u001b[0m\u001b[0mconcat\u001b[0m\u001b[1;33m(\u001b[0m\u001b[0mdf_res\u001b[0m\u001b[1;33m,\u001b[0m\u001b[0maxis\u001b[0m\u001b[1;33m=\u001b[0m\u001b[1;36m1\u001b[0m\u001b[1;33m)\u001b[0m\u001b[1;33m\u001b[0m\u001b[0m\n\u001b[0m\u001b[0;32m     15\u001b[0m         \u001b[1;32mreturn\u001b[0m \u001b[0mresult\u001b[0m\u001b[1;33m\u001b[0m\u001b[0m\n\u001b[0;32m     16\u001b[0m     \u001b[1;32melse\u001b[0m\u001b[1;33m:\u001b[0m\u001b[1;33m\u001b[0m\u001b[0m\n",
      "\u001b[1;32mD:\\anaconda3\\lib\\site-packages\\pandas\\core\\reshape\\concat.py\u001b[0m in \u001b[0;36mconcat\u001b[1;34m(objs, axis, join, join_axes, ignore_index, keys, levels, names, verify_integrity, sort, copy)\u001b[0m\n\u001b[0;32m    223\u001b[0m                        \u001b[0mkeys\u001b[0m\u001b[1;33m=\u001b[0m\u001b[0mkeys\u001b[0m\u001b[1;33m,\u001b[0m \u001b[0mlevels\u001b[0m\u001b[1;33m=\u001b[0m\u001b[0mlevels\u001b[0m\u001b[1;33m,\u001b[0m \u001b[0mnames\u001b[0m\u001b[1;33m=\u001b[0m\u001b[0mnames\u001b[0m\u001b[1;33m,\u001b[0m\u001b[1;33m\u001b[0m\u001b[0m\n\u001b[0;32m    224\u001b[0m                        \u001b[0mverify_integrity\u001b[0m\u001b[1;33m=\u001b[0m\u001b[0mverify_integrity\u001b[0m\u001b[1;33m,\u001b[0m\u001b[1;33m\u001b[0m\u001b[0m\n\u001b[1;32m--> 225\u001b[1;33m                        copy=copy, sort=sort)\n\u001b[0m\u001b[0;32m    226\u001b[0m     \u001b[1;32mreturn\u001b[0m \u001b[0mop\u001b[0m\u001b[1;33m.\u001b[0m\u001b[0mget_result\u001b[0m\u001b[1;33m(\u001b[0m\u001b[1;33m)\u001b[0m\u001b[1;33m\u001b[0m\u001b[0m\n\u001b[0;32m    227\u001b[0m \u001b[1;33m\u001b[0m\u001b[0m\n",
      "\u001b[1;32mD:\\anaconda3\\lib\\site-packages\\pandas\\core\\reshape\\concat.py\u001b[0m in \u001b[0;36m__init__\u001b[1;34m(self, objs, axis, join, join_axes, keys, levels, names, ignore_index, verify_integrity, copy, sort)\u001b[0m\n\u001b[0;32m    239\u001b[0m             raise TypeError('first argument must be an iterable of pandas '\n\u001b[0;32m    240\u001b[0m                             \u001b[1;34m'objects, you passed an object of type '\u001b[0m\u001b[1;33m\u001b[0m\u001b[0m\n\u001b[1;32m--> 241\u001b[1;33m                             '\"{name}\"'.format(name=type(objs).__name__))\n\u001b[0m\u001b[0;32m    242\u001b[0m \u001b[1;33m\u001b[0m\u001b[0m\n\u001b[0;32m    243\u001b[0m         \u001b[1;32mif\u001b[0m \u001b[0mjoin\u001b[0m \u001b[1;33m==\u001b[0m \u001b[1;34m'outer'\u001b[0m\u001b[1;33m:\u001b[0m\u001b[1;33m\u001b[0m\u001b[0m\n",
      "\u001b[1;31mTypeError\u001b[0m: first argument must be an iterable of pandas objects, you passed an object of type \"DataFrame\""
     ]
    }
   ],
   "source": [
    "# parts = 10  \n",
    "df1 = row_data[['订单送车锁定总时长']]\n",
    "df2 = row_data[['order_id']]\n",
    "df = [df1,df2]\n",
    "\n",
    "def Descriptive_Statistics(df,parts=10):\n",
    "    ##计算分位数\n",
    "    parts_list = [round(i/parts,2) for i in range(1,parts)]\n",
    "    if 1==1:\n",
    "        res_list = []\n",
    "        for i in range(len(df)):\n",
    "            df_res = df[i].describe(parts_list).round(decimals=3)\n",
    "            res_list.append(res_list)\n",
    "        result = pd.concat(df_res,axis=1)\n",
    "        return result\n",
    "    else:     \n",
    "#         result = df.describe(parts_list)\n",
    "#         result = result.round(decimals=3)\n",
    "\n",
    "#     ##描述性统计指标\n",
    "#     #待补充\n",
    "        return 1\n",
    "\n",
    "Descriptive_Statistics(df)"
   ]
  },
  {
   "cell_type": "code",
   "execution_count": null,
   "metadata": {},
   "outputs": [],
   "source": []
  }
 ],
 "metadata": {
  "kernelspec": {
   "display_name": "Python 3",
   "language": "python",
   "name": "python3"
  },
  "language_info": {
   "codemirror_mode": {
    "name": "ipython",
    "version": 3
   },
   "file_extension": ".py",
   "mimetype": "text/x-python",
   "name": "python",
   "nbconvert_exporter": "python",
   "pygments_lexer": "ipython3",
   "version": "3.6.5"
  }
 },
 "nbformat": 4,
 "nbformat_minor": 2
}
